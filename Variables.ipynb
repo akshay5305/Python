{
 "cells": [
  {
   "cell_type": "code",
   "execution_count": 3,
   "id": "d2fb2d28",
   "metadata": {},
   "outputs": [
    {
     "name": "stdout",
     "output_type": "stream",
     "text": [
      "hello Bro\n",
      "<class 'str'>\n",
      "Bro Code\n"
     ]
    }
   ],
   "source": [
    "first_name='Bro'\n",
    "second_name=\"Code\"\n",
    "fullname=first_name+\" \"+second_name\n",
    "print(\"hello \"+first_name)\n",
    "print(type(first_name))\n",
    "print(fullname)"
   ]
  },
  {
   "cell_type": "code",
   "execution_count": null,
   "id": "9b517ae1",
   "metadata": {},
   "outputs": [],
   "source": []
  }
 ],
 "metadata": {
  "kernelspec": {
   "display_name": "Python 3 (ipykernel)",
   "language": "python",
   "name": "python3"
  },
  "language_info": {
   "codemirror_mode": {
    "name": "ipython",
    "version": 3
   },
   "file_extension": ".py",
   "mimetype": "text/x-python",
   "name": "python",
   "nbconvert_exporter": "python",
   "pygments_lexer": "ipython3",
   "version": "3.11.5"
  }
 },
 "nbformat": 4,
 "nbformat_minor": 5
}
